{
 "cells": [
  {
   "cell_type": "markdown",
   "metadata": {},
   "source": [
    "path_to_zip_file = \"datasets.zip\"\n",
    "directory_to_extract_to = \"\"\n",
    "\n",
    "import zipfile\n",
    "zip_ref = zipfile.ZipFile(path_to_zip_file, 'r')\n",
    "zip_ref.extractall(directory_to_extract_to)\n",
    "zip_ref.close()"
   ]
  },
  {
   "cell_type": "markdown",
   "metadata": {},
   "source": [
    "#DEMO: Loading data from csv files\n",
    "import pandas as pd\n",
    "\n",
    "Location = \"datasets/smallgradesh.csv\"\n",
    "\n",
    "#without headers\n",
    "df = pd.read_csv(Location, header=None)\n",
    "\n",
    "#with headers\n",
    "#df = pd.read_csv(Location)\n",
    "\n",
    "#add headers as we load the data\n",
    "#df = pd.read_csv(Location, names=['Names', 'Grades'])\n",
    "\n",
    "#add headers to a dataframe that is already loaded\n",
    "df.columns = ['Names', 'Grades']"
   ]
  },
  {
   "cell_type": "markdown",
   "metadata": {},
   "source": [
    "df.head()"
   ]
  },
  {
   "cell_type": "markdown",
   "metadata": {},
   "source": [
    "#DEMO: create and export dataframe as csv\n",
    "import pandas as pd\n",
    "\n",
    "#create data as lists\n",
    "names = ['Bob', 'Jessica', 'Mary', 'John', 'Mel']\n",
    "grades = [76, 95, 77, 78, 99]\n",
    "GradesList = zip(names, grades)\n",
    "\n",
    "#create dataframe\n",
    "df = pd.DataFrame(data=GradesList, columns=['Names', 'Grades'])\n",
    "\n",
    "#export dataframe as csv file\n",
    "df.to_csv('studentgrades.csv', index=False, header=False)"
   ]
  },
  {
   "cell_type": "markdown",
   "metadata": {},
   "source": [
    "#EXERCISE: create and export dataframe as csv\n",
    "\n",
    "import pandas as pd\n",
    "\n",
    "names = ['Bob', 'Jessica', 'Mary', 'John', 'Mel']\n",
    "grades = [76, 95, 77, 78, 99]\n",
    "bsdegrees = [1,1,0,0,1]\n",
    "msdegrees = [2,1,0,0,0]\n",
    "phddegrees = [0,1,0,0,0]\n",
    "\n",
    "Degrees = zip(names, grades, bsdegrees, msdegrees, phddegrees)\n",
    "column = ['Names', 'Grades', 'BS', 'MS', \"PhD\"]\n",
    "\n",
    "df = pd.DataFrame(data = Degrees, columns = column)\n",
    "df\n",
    "\n",
    "df.to_csv('studentdegrees.csv', index=False, header=True)"
   ]
  },
  {
   "cell_type": "markdown",
   "metadata": {},
   "source": [
    "#DEMO: loading data from Excel files\n",
    "\n",
    "import pandas as pd\n",
    "\n",
    "Location = \"datasets\\gradedata.xlsx\"\n",
    "df = pd.read_excel(Location)\n",
    "\n",
    "#changing column names\n",
    "#df.columns = ['first', 'last', 'sex', 'age', 'exer', 'hrs', 'grd', 'addr']\n",
    "\n",
    "df.head()"
   ]
  },
  {
   "cell_type": "markdown",
   "metadata": {},
   "source": [
    "#DEMO: saving data to Excel file\n",
    "\n",
    "#exporting a dataframe to Excel\n",
    "import pandas as pd\n",
    "names = ['Bob', 'Jessica', 'Mary', 'John', 'Mel']\n",
    "grades = [76, 95, 77, 78, 99]\n",
    "GradesList = zip(names, grades)\n",
    "\n",
    "df = pd.DataFrame(data = GradesList, columns=['Names', 'Grades'])\n",
    "\n",
    "writer = pd.ExcelWriter('dataframe.xlsx', engine='xlsxwriter')\n",
    "df.to_excel(writer, sheet_name='Sheet1')\n",
    "\n",
    "#exporting multiple dataframes to Excel\n",
    "df.to_excel(writer, sheet_name='Sheet2')\n",
    "\n",
    "writer.save()"
   ]
  },
  {
   "cell_type": "markdown",
   "metadata": {},
   "source": [
    "#EXERCISE: export dataframe to Excel\n",
    "\n",
    "import pandas as pd\n",
    "\n",
    "names = ['Nike', 'Adidas', 'New Balance', 'Puma', 'Reebok']\n",
    "prices = [176, 59, 47, 38, 99]\n",
    "PriceList = zip(names, prices)\n",
    "\n",
    "df = pd.DataFrame(data = PriceList, columns=['Names', 'Prices'])\n",
    "\n",
    "writer = pd.ExcelWriter('PriceList.xlsx', engine='xlsxwriter')\n",
    "df.to_excel(writer, sheet_name=\"Sheet1\")\n",
    "\n",
    "writer.save()"
   ]
  },
  {
   "cell_type": "markdown",
   "metadata": {},
   "source": [
    "#DEMO: Combining data from multiple Excel file - LONG WAY\n",
    "\n",
    "import pandas as pd\n",
    "import numpy as np\n",
    "\n",
    "#empty dataframe\n",
    "all_data = pd.DataFrame()\n",
    "\n",
    "#append all contents of Excel dataframe to all_data dataframe\n",
    "df = pd.read_excel(\"datasets/data1.xlsx\")\n",
    "all_data = all_data.append(df, ignore_index=True)\n",
    "\n",
    "df = pd.read_excel(\"datasets/data2.xlsx\")\n",
    "all_data = all_data.append(df, ignore_index=True)\n",
    "\n",
    "df = pd.read_excel(\"datasets/data3.xlsx\")\n",
    "all_data = all_data.append(df, ignore_index=True)\n",
    "\n",
    "all_data.describe()\n",
    "#all_data.head()"
   ]
  },
  {
   "cell_type": "markdown",
   "metadata": {},
   "source": [
    "#DEMO: Combining data from multiple Excel file - SHORT WAY\n",
    "\n",
    "import pandas as pd\n",
    "import numpy as np\n",
    "import glob\n",
    "\n",
    "all_data = pd.DataFrame()\n",
    "\n",
    "#use for loop to to find all files that match pattern\n",
    "for f in glob.glob(\"datasets/data*.xlsx\"):\n",
    "    df = pd.read_excel(f)\n",
    "    all_data = all_data.append(df, ignore_index=True)\n",
    "    \n",
    "all_data.describe()"
   ]
  },
  {
   "cell_type": "code",
   "execution_count": 38,
   "metadata": {},
   "outputs": [
    {
     "data": {
      "text/html": [
       "<div>\n",
       "<style>\n",
       "    .dataframe thead tr:only-child th {\n",
       "        text-align: right;\n",
       "    }\n",
       "\n",
       "    .dataframe thead th {\n",
       "        text-align: left;\n",
       "    }\n",
       "\n",
       "    .dataframe tbody tr th {\n",
       "        vertical-align: top;\n",
       "    }\n",
       "</style>\n",
       "<table border=\"1\" class=\"dataframe\">\n",
       "  <thead>\n",
       "    <tr style=\"text-align: right;\">\n",
       "      <th></th>\n",
       "      <th>CallingNumber</th>\n",
       "      <th>DayOfWeek</th>\n",
       "      <th>TimeOfDay</th>\n",
       "      <th>CallDuration</th>\n",
       "      <th>ReasonForCall</th>\n",
       "      <th>AnsweringAgent</th>\n",
       "    </tr>\n",
       "  </thead>\n",
       "  <tbody>\n",
       "    <tr>\n",
       "      <th>0</th>\n",
       "      <td>774-823-8593</td>\n",
       "      <td>thu</td>\n",
       "      <td>10:30</td>\n",
       "      <td>20</td>\n",
       "      <td>Product Inquiry</td>\n",
       "      <td>Cameron</td>\n",
       "    </tr>\n",
       "    <tr>\n",
       "      <th>1</th>\n",
       "      <td>432-403-9821</td>\n",
       "      <td>fri</td>\n",
       "      <td>11:24</td>\n",
       "      <td>10</td>\n",
       "      <td>Complaint</td>\n",
       "      <td>Cameron</td>\n",
       "    </tr>\n",
       "    <tr>\n",
       "      <th>2</th>\n",
       "      <td>274-683-6814</td>\n",
       "      <td>tue</td>\n",
       "      <td>15:43</td>\n",
       "      <td>17</td>\n",
       "      <td>Technical Support</td>\n",
       "      <td>Kennedy</td>\n",
       "    </tr>\n",
       "    <tr>\n",
       "      <th>3</th>\n",
       "      <td>681-402-6913</td>\n",
       "      <td>tue</td>\n",
       "      <td>13:44</td>\n",
       "      <td>2</td>\n",
       "      <td>Technical Support</td>\n",
       "      <td>Lisa</td>\n",
       "    </tr>\n",
       "    <tr>\n",
       "      <th>4</th>\n",
       "      <td>242-336-6459</td>\n",
       "      <td>wed</td>\n",
       "      <td>10:50</td>\n",
       "      <td>19</td>\n",
       "      <td>Technical Support</td>\n",
       "      <td>Kennedy</td>\n",
       "    </tr>\n",
       "  </tbody>\n",
       "</table>\n",
       "</div>"
      ],
      "text/plain": [
       "  CallingNumber DayOfWeek TimeOfDay  CallDuration      ReasonForCall  \\\n",
       "0  774-823-8593       thu     10:30            20    Product Inquiry   \n",
       "1  432-403-9821       fri     11:24            10          Complaint   \n",
       "2  274-683-6814       tue     15:43            17  Technical Support   \n",
       "3  681-402-6913       tue     13:44             2  Technical Support   \n",
       "4  242-336-6459       wed     10:50            19  Technical Support   \n",
       "\n",
       "  AnsweringAgent  \n",
       "0        Cameron  \n",
       "1        Cameron  \n",
       "2        Kennedy  \n",
       "3           Lisa  \n",
       "4        Kennedy  "
      ]
     },
     "execution_count": 38,
     "metadata": {},
     "output_type": "execute_result"
    }
   ],
   "source": [
    "#EXERCISE: loading data from multiple Excel files\n",
    "\n",
    "import pandas as pd\n",
    "import numpy as np\n",
    "import glob\n",
    "\n",
    "all_data = pd.DataFrame()\n",
    "\n",
    "for f in glob.glob(\"datasets/weekly_call_data/weekdata_*.xlsx\"):\n",
    "    df = pd.read_excel(f)\n",
    "    all_data = all_data.append(df, ignore_index=True)\n",
    "    \n",
    "all_data.describe()\n",
    "#all_data.head()"
   ]
  }
 ],
 "metadata": {
  "kernelspec": {
   "display_name": "Python 2",
   "language": "python",
   "name": "python2"
  },
  "language_info": {
   "codemirror_mode": {
    "name": "ipython",
    "version": 2
   },
   "file_extension": ".py",
   "mimetype": "text/x-python",
   "name": "python",
   "nbconvert_exporter": "python",
   "pygments_lexer": "ipython2",
   "version": "2.7.13"
  }
 },
 "nbformat": 4,
 "nbformat_minor": 2
}
