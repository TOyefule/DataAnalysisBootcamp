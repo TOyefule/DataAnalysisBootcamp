{
 "cells": [
  {
   "cell_type": "code",
   "execution_count": null,
   "metadata": {
    "collapsed": true
   },
   "outputs": [],
   "source": [
    "import pandas as pd\n",
    "import numpy as np\n",
    "\n",
    "filename = \"Nashville_housing_data_2013_2016.csv\"\n",
    "df = pd.read_csv(filename)"
   ]
  },
  {
   "cell_type": "code",
   "execution_count": null,
   "metadata": {
    "collapsed": true
   },
   "outputs": [],
   "source": [
    "df.head()"
   ]
  },
  {
   "cell_type": "code",
   "execution_count": null,
   "metadata": {
    "collapsed": true
   },
   "outputs": [],
   "source": [
    "#remove useless or duplicate info columns\n",
    "df = df.drop(['Unnamed: 0', 'Unnamed: 0.1', 'Parcel ID','State', 'City', 'Legal Reference', 'image', 'Tax District', 'Sold As Vacant', 'Suite/ Condo   #', 'Property City', 'Multiple Parcels Involved in Sale', 'Owner Name', 'Address'], axis = 1)"
   ]
  },
  {
   "cell_type": "code",
   "execution_count": null,
   "metadata": {
    "collapsed": true
   },
   "outputs": [],
   "source": [
    "df.count()"
   ]
  },
  {
   "cell_type": "code",
   "execution_count": null,
   "metadata": {
    "collapsed": true
   },
   "outputs": [],
   "source": [
    "#copied from Maria Victoria's notebook\n",
    "\n",
    "residence =['RESIDENTIAL CONDO', 'SINGLE FAMILY', 'APARTMENT: LOW RISE (BUILT SINCE 1960)','DUPLEX',\n",
    "       'CONDO', 'ZERO LOT LINE', 'RESIDENTIAL COMBO/MISC', 'TRIPLEX','QUADPLEX',\n",
    "                'DORMITORY/BOARDING HOUSE', 'MOBILE HOME', 'PARSONAGE']\n",
    "    \n",
    "commerical = ['SMALL SERVICE SHOP', 'TERMINAL/DISTRIBUTION WAREHOUSE',\n",
    "       'NON-PROFIT CHARITABLE SERVICE',\n",
    "       'METRO OTHER THAN OFC, SCHOOL,HOSP, OR PARK', 'NIGHTCLUB/LOUNGE',\n",
    "       'MORTUARY/CEMETERY', 'PARKING LOT','OFFICE BLDG (ONE OR TWO STORIES)', \n",
    "        'CLUB/UNION HALL/LODGE', 'LIGHT MANUFACTURING',\n",
    "       'ONE STORY GENERAL RETAIL STORE', 'DAY CARE CENTER','CHURCH']\n",
    "    \n",
    "vacant = ['VACANT RES LAND', 'VACANT COMMERCIAL LAND', 'VACANT RURAL LAND','VACANT ZONED MULTI FAMILY', \n",
    "              'VACANT RESIDENTIAL LAND','VACANT RESIENTIAL LAND']\n",
    "    \n",
    "other = ['GREENBELT','GREENBELT/RES\\nGRRENBELT/RES']"
   ]
  },
  {
   "cell_type": "code",
   "execution_count": null,
   "metadata": {
    "collapsed": true
   },
   "outputs": [],
   "source": [
    "#create dataframe with only rows that are residence\n",
    "df_housing = df[(df['Land Use'].isin(residence))]"
   ]
  },
  {
   "cell_type": "code",
   "execution_count": null,
   "metadata": {
    "collapsed": true
   },
   "outputs": [],
   "source": [
    "df_housing.count()"
   ]
  },
  {
   "cell_type": "code",
   "execution_count": null,
   "metadata": {
    "collapsed": true
   },
   "outputs": [],
   "source": [
    "#house_type will be one of these 2 lists\n",
    "apt = ['RESIDENTIAL CONDO', 'APARTMENT: LOW RISE (BUILT SINCE 1960)','DUPLEX',\n",
    "       'CONDO','RESIDENTIAL COMBO/MISC', 'TRIPLEX','QUADPLEX', 'DORMITORY/BOARDING HOUSE']\n",
    "house = ['ZERO LOT LINE', 'SINGLE FAMILY', 'MOBILE HOME', 'PARSONAGE']\n",
    "\n",
    "#use list index # when calling house_cat function\n",
    "house_str = ['Apt', 'House']\n",
    "\n",
    "def res_type(df_housing, house_type, house_str):\n",
    "    df_housing.loc[df_housing['Land Use'].isin(house_type), 'Resident Type'] = house_str\n",
    "    return df_housing"
   ]
  },
  {
   "cell_type": "code",
   "execution_count": null,
   "metadata": {
    "collapsed": true
   },
   "outputs": [],
   "source": [
    "res_type(df_housing, apt, house_str[0])\n",
    "res_type(df_housing, house, house_str[1])"
   ]
  },
  {
   "cell_type": "code",
   "execution_count": null,
   "metadata": {
    "collapsed": true
   },
   "outputs": [],
   "source": [
    "df_housing['Resident Type'].head()"
   ]
  }
 ],
 "metadata": {
  "kernelspec": {
   "display_name": "Python 2",
   "language": "python",
   "name": "python2"
  },
  "language_info": {
   "codemirror_mode": {
    "name": "ipython",
    "version": 2
   },
   "file_extension": ".py",
   "mimetype": "text/x-python",
   "name": "python",
   "nbconvert_exporter": "python",
   "pygments_lexer": "ipython2",
   "version": "2.7.13"
  }
 },
 "nbformat": 4,
 "nbformat_minor": 2
}
