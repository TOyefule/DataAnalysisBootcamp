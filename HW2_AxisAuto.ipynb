{
 "cells": [
  {
   "cell_type": "code",
   "execution_count": null,
   "metadata": {
    "collapsed": true
   },
   "outputs": [],
   "source": [
    "#average cars sold per month\n",
    "#max cars sold per month\n",
    "#min cars sold per month\n",
    "#average cars sold per month by gender\n",
    "#average hours worked by people selling > 3 cars per month\n",
    "#average cars sold per month based on if they were/weren't trained\n",
    "#what do you think is the best indicator of whether or not somebody is a good salesperson?"
   ]
  },
  {
   "cell_type": "code",
   "execution_count": 3,
   "metadata": {},
   "outputs": [
    {
     "data": {
      "text/html": [
       "<div>\n",
       "<style>\n",
       "    .dataframe thead tr:only-child th {\n",
       "        text-align: right;\n",
       "    }\n",
       "\n",
       "    .dataframe thead th {\n",
       "        text-align: left;\n",
       "    }\n",
       "\n",
       "    .dataframe tbody tr th {\n",
       "        vertical-align: top;\n",
       "    }\n",
       "</style>\n",
       "<table border=\"1\" class=\"dataframe\">\n",
       "  <thead>\n",
       "    <tr style=\"text-align: right;\">\n",
       "      <th></th>\n",
       "      <th>Fname</th>\n",
       "      <th>Lname</th>\n",
       "      <th>Gender</th>\n",
       "      <th>Hours Worked</th>\n",
       "      <th>SalesTraining</th>\n",
       "      <th>Years Experience</th>\n",
       "      <th>Cars Sold</th>\n",
       "    </tr>\n",
       "  </thead>\n",
       "  <tbody>\n",
       "    <tr>\n",
       "      <th>0</th>\n",
       "      <td>Jada</td>\n",
       "      <td>Walters</td>\n",
       "      <td>F</td>\n",
       "      <td>39</td>\n",
       "      <td>N</td>\n",
       "      <td>3</td>\n",
       "      <td>2</td>\n",
       "    </tr>\n",
       "    <tr>\n",
       "      <th>1</th>\n",
       "      <td>Nicole</td>\n",
       "      <td>Henderson</td>\n",
       "      <td>F</td>\n",
       "      <td>46</td>\n",
       "      <td>N</td>\n",
       "      <td>3</td>\n",
       "      <td>6</td>\n",
       "    </tr>\n",
       "    <tr>\n",
       "      <th>2</th>\n",
       "      <td>Tanya</td>\n",
       "      <td>Moore</td>\n",
       "      <td>F</td>\n",
       "      <td>42</td>\n",
       "      <td>Y</td>\n",
       "      <td>4</td>\n",
       "      <td>6</td>\n",
       "    </tr>\n",
       "    <tr>\n",
       "      <th>3</th>\n",
       "      <td>Ronelle</td>\n",
       "      <td>Jackson</td>\n",
       "      <td>F</td>\n",
       "      <td>38</td>\n",
       "      <td>Y</td>\n",
       "      <td>5</td>\n",
       "      <td>3</td>\n",
       "    </tr>\n",
       "    <tr>\n",
       "      <th>4</th>\n",
       "      <td>Brad</td>\n",
       "      <td>Sears</td>\n",
       "      <td>M</td>\n",
       "      <td>33</td>\n",
       "      <td>N</td>\n",
       "      <td>4</td>\n",
       "      <td>2</td>\n",
       "    </tr>\n",
       "  </tbody>\n",
       "</table>\n",
       "</div>"
      ],
      "text/plain": [
       "     Fname      Lname Gender  Hours Worked SalesTraining  Years Experience  \\\n",
       "0     Jada   Walters       F            39             N                 3   \n",
       "1   Nicole  Henderson      F            46             N                 3   \n",
       "2    Tanya      Moore      F            42             Y                 4   \n",
       "3  Ronelle    Jackson      F            38             Y                 5   \n",
       "4     Brad      Sears      M            33             N                 4   \n",
       "\n",
       "   Cars Sold  \n",
       "0          2  \n",
       "1          6  \n",
       "2          6  \n",
       "3          3  \n",
       "4          2  "
      ]
     },
     "execution_count": 3,
     "metadata": {},
     "output_type": "execute_result"
    }
   ],
   "source": [
    "import pandas as pd\n",
    "import numpy as np\n",
    "\n",
    "filename = pd.read_csv(\"datasets/axisdata.csv\")\n",
    "\n",
    "df = pd.DataFrame(filename)\n",
    "\n",
    "df.head()"
   ]
  },
  {
   "cell_type": "code",
   "execution_count": 4,
   "metadata": {},
   "outputs": [
    {
     "data": {
      "text/plain": [
       "3.9229229229229228"
      ]
     },
     "execution_count": 4,
     "metadata": {},
     "output_type": "execute_result"
    }
   ],
   "source": [
    "avg_sales = df['Cars Sold'].mean()\n",
    "\n",
    "avg_sales"
   ]
  },
  {
   "cell_type": "code",
   "execution_count": 6,
   "metadata": {},
   "outputs": [
    {
     "data": {
      "text/plain": [
       "7"
      ]
     },
     "execution_count": 6,
     "metadata": {},
     "output_type": "execute_result"
    }
   ],
   "source": [
    "max_sales = df['Cars Sold'].max()\n",
    "\n",
    "max_sales"
   ]
  },
  {
   "cell_type": "code",
   "execution_count": 8,
   "metadata": {},
   "outputs": [
    {
     "data": {
      "text/plain": [
       "1"
      ]
     },
     "execution_count": 8,
     "metadata": {},
     "output_type": "execute_result"
    }
   ],
   "source": [
    "min_sales = df['Cars Sold'].min()\n",
    "\n",
    "min_sales"
   ]
  },
  {
   "cell_type": "code",
   "execution_count": 16,
   "metadata": {},
   "outputs": [
    {
     "data": {
      "text/plain": [
       "Gender\n",
       "F    3.760736\n",
       "M    4.078431\n",
       "Name: Cars Sold, dtype: float64"
      ]
     },
     "execution_count": 16,
     "metadata": {},
     "output_type": "execute_result"
    }
   ],
   "source": [
    "sales_by_gender = df['Cars Sold'].groupby(df['Gender'])\n",
    "\n",
    "sales_by_gender.mean()"
   ]
  },
  {
   "cell_type": "code",
   "execution_count": 19,
   "metadata": {},
   "outputs": [
    {
     "data": {
      "text/plain": [
       "34.740237691001695"
      ]
     },
     "execution_count": 19,
     "metadata": {},
     "output_type": "execute_result"
    }
   ],
   "source": [
    "avg_hours_3sales = df['Hours Worked'][df['Cars Sold'] > 3]\n",
    "\n",
    "avg_hours_3sales.mean()"
   ]
  },
  {
   "cell_type": "code",
   "execution_count": 22,
   "metadata": {},
   "outputs": [
    {
     "data": {
      "text/plain": [
       "SalesTraining\n",
       "N    3.573850\n",
       "Y    4.168942\n",
       "Name: Cars Sold, dtype: float64"
      ]
     },
     "execution_count": 22,
     "metadata": {},
     "output_type": "execute_result"
    }
   ],
   "source": [
    "sales_by_training = df['Cars Sold'].groupby(df['SalesTraining'])\n",
    "\n",
    "sales_by_training.mean()"
   ]
  },
  {
   "cell_type": "code",
   "execution_count": 23,
   "metadata": {},
   "outputs": [
    {
     "data": {
      "text/plain": [
       "Years Experience\n",
       "1    3.732240\n",
       "2    3.840580\n",
       "3    4.014151\n",
       "4    4.020513\n",
       "5    3.990099\n",
       "Name: Cars Sold, dtype: float64"
      ]
     },
     "execution_count": 23,
     "metadata": {},
     "output_type": "execute_result"
    }
   ],
   "source": [
    "sales_by_experience = df['Cars Sold'].groupby(df['Years Experience'])\n",
    "\n",
    "sales_by_experience.mean()"
   ]
  },
  {
   "cell_type": "code",
   "execution_count": 24,
   "metadata": {},
   "outputs": [
    {
     "data": {
      "text/plain": [
       "Hours Worked\n",
       "20    3.264706\n",
       "21    2.897436\n",
       "22    3.560976\n",
       "23    3.296296\n",
       "24    3.571429\n",
       "25    3.575758\n",
       "26    3.548387\n",
       "27    3.394737\n",
       "28    4.032258\n",
       "29    3.780488\n",
       "30    3.694444\n",
       "31    4.135135\n",
       "32    4.297297\n",
       "33    3.736842\n",
       "34    3.666667\n",
       "35    3.951220\n",
       "36    3.933333\n",
       "37    3.857143\n",
       "38    4.261905\n",
       "39    4.105263\n",
       "40    4.151515\n",
       "41    4.171429\n",
       "42    4.081081\n",
       "43    4.605263\n",
       "44    4.315789\n",
       "45    4.400000\n",
       "46    4.419355\n",
       "47    4.655172\n",
       "48    4.666667\n",
       "Name: Cars Sold, dtype: float64"
      ]
     },
     "execution_count": 24,
     "metadata": {},
     "output_type": "execute_result"
    }
   ],
   "source": [
    "sales_by_hours = df['Cars Sold'].groupby(df['Hours Worked'])\n",
    "\n",
    "sales_by_hours.mean()"
   ]
  },
  {
   "cell_type": "markdown",
   "metadata": {},
   "source": [
    "Although there isn't a breakout feature that influences someone being a good salesperson, it seems that the more hours you worked, the more cars you sold. Also, being male, having training, and about 3-4 years of experience were slight influences on the number of cars a saleperson sold per month.  "
   ]
  }
 ],
 "metadata": {
  "kernelspec": {
   "display_name": "Python 2",
   "language": "python",
   "name": "python2"
  },
  "language_info": {
   "codemirror_mode": {
    "name": "ipython",
    "version": 2
   },
   "file_extension": ".py",
   "mimetype": "text/x-python",
   "name": "python",
   "nbconvert_exporter": "python",
   "pygments_lexer": "ipython2",
   "version": "2.7.13"
  }
 },
 "nbformat": 4,
 "nbformat_minor": 2
}
