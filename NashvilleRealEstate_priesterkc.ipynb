{
 "cells": [
  {
   "cell_type": "code",
   "execution_count": 10,
   "metadata": {
    "collapsed": true
   },
   "outputs": [],
   "source": [
    "import pandas as pd\n",
    "import numpy as np\n",
    "\n",
    "filename = \"Nashville_housing_data_2013_2016.csv\"\n",
    "df = pd.read_csv(filename)"
   ]
  },
  {
   "cell_type": "code",
   "execution_count": 11,
   "metadata": {
    "scrolled": true
   },
   "outputs": [
    {
     "data": {
      "text/html": [
       "<div>\n",
       "<style>\n",
       "    .dataframe thead tr:only-child th {\n",
       "        text-align: right;\n",
       "    }\n",
       "\n",
       "    .dataframe thead th {\n",
       "        text-align: left;\n",
       "    }\n",
       "\n",
       "    .dataframe tbody tr th {\n",
       "        vertical-align: top;\n",
       "    }\n",
       "</style>\n",
       "<table border=\"1\" class=\"dataframe\">\n",
       "  <thead>\n",
       "    <tr style=\"text-align: right;\">\n",
       "      <th></th>\n",
       "      <th>Unnamed: 0</th>\n",
       "      <th>Unnamed: 0.1</th>\n",
       "      <th>Parcel ID</th>\n",
       "      <th>Land Use</th>\n",
       "      <th>Property Address</th>\n",
       "      <th>Suite/ Condo   #</th>\n",
       "      <th>Property City</th>\n",
       "      <th>Sale Date</th>\n",
       "      <th>Sale Price</th>\n",
       "      <th>Legal Reference</th>\n",
       "      <th>...</th>\n",
       "      <th>Building Value</th>\n",
       "      <th>Total Value</th>\n",
       "      <th>Finished Area</th>\n",
       "      <th>Foundation Type</th>\n",
       "      <th>Year Built</th>\n",
       "      <th>Exterior Wall</th>\n",
       "      <th>Grade</th>\n",
       "      <th>Bedrooms</th>\n",
       "      <th>Full Bath</th>\n",
       "      <th>Half Bath</th>\n",
       "    </tr>\n",
       "  </thead>\n",
       "  <tbody>\n",
       "    <tr>\n",
       "      <th>0</th>\n",
       "      <td>0</td>\n",
       "      <td>0</td>\n",
       "      <td>105 03 0D 008.00</td>\n",
       "      <td>RESIDENTIAL CONDO</td>\n",
       "      <td>1208  3RD AVE S</td>\n",
       "      <td>8</td>\n",
       "      <td>NASHVILLE</td>\n",
       "      <td>2013-01-24</td>\n",
       "      <td>132000</td>\n",
       "      <td>20130128-0008725</td>\n",
       "      <td>...</td>\n",
       "      <td>NaN</td>\n",
       "      <td>NaN</td>\n",
       "      <td>NaN</td>\n",
       "      <td>NaN</td>\n",
       "      <td>NaN</td>\n",
       "      <td>NaN</td>\n",
       "      <td>NaN</td>\n",
       "      <td>NaN</td>\n",
       "      <td>NaN</td>\n",
       "      <td>NaN</td>\n",
       "    </tr>\n",
       "    <tr>\n",
       "      <th>1</th>\n",
       "      <td>1</td>\n",
       "      <td>1</td>\n",
       "      <td>105 11 0 080.00</td>\n",
       "      <td>SINGLE FAMILY</td>\n",
       "      <td>1802  STEWART PL</td>\n",
       "      <td>NaN</td>\n",
       "      <td>NASHVILLE</td>\n",
       "      <td>2013-01-11</td>\n",
       "      <td>191500</td>\n",
       "      <td>20130118-0006337</td>\n",
       "      <td>...</td>\n",
       "      <td>134400.0</td>\n",
       "      <td>168300.0</td>\n",
       "      <td>1149.00000</td>\n",
       "      <td>PT BSMT</td>\n",
       "      <td>1941.0</td>\n",
       "      <td>BRICK</td>\n",
       "      <td>C</td>\n",
       "      <td>2.0</td>\n",
       "      <td>1.0</td>\n",
       "      <td>0.0</td>\n",
       "    </tr>\n",
       "    <tr>\n",
       "      <th>2</th>\n",
       "      <td>2</td>\n",
       "      <td>2</td>\n",
       "      <td>118 03 0 130.00</td>\n",
       "      <td>SINGLE FAMILY</td>\n",
       "      <td>2761  ROSEDALE PL</td>\n",
       "      <td>NaN</td>\n",
       "      <td>NASHVILLE</td>\n",
       "      <td>2013-01-18</td>\n",
       "      <td>202000</td>\n",
       "      <td>20130124-0008033</td>\n",
       "      <td>...</td>\n",
       "      <td>157800.0</td>\n",
       "      <td>191800.0</td>\n",
       "      <td>2090.82495</td>\n",
       "      <td>SLAB</td>\n",
       "      <td>2000.0</td>\n",
       "      <td>BRICK/FRAME</td>\n",
       "      <td>C</td>\n",
       "      <td>3.0</td>\n",
       "      <td>2.0</td>\n",
       "      <td>1.0</td>\n",
       "    </tr>\n",
       "    <tr>\n",
       "      <th>3</th>\n",
       "      <td>3</td>\n",
       "      <td>3</td>\n",
       "      <td>119 01 0 479.00</td>\n",
       "      <td>SINGLE FAMILY</td>\n",
       "      <td>224  PEACHTREE ST</td>\n",
       "      <td>NaN</td>\n",
       "      <td>NASHVILLE</td>\n",
       "      <td>2013-01-18</td>\n",
       "      <td>32000</td>\n",
       "      <td>20130128-0008863</td>\n",
       "      <td>...</td>\n",
       "      <td>243700.0</td>\n",
       "      <td>268700.0</td>\n",
       "      <td>2145.60001</td>\n",
       "      <td>FULL BSMT</td>\n",
       "      <td>1948.0</td>\n",
       "      <td>BRICK/FRAME</td>\n",
       "      <td>B</td>\n",
       "      <td>4.0</td>\n",
       "      <td>2.0</td>\n",
       "      <td>0.0</td>\n",
       "    </tr>\n",
       "    <tr>\n",
       "      <th>4</th>\n",
       "      <td>4</td>\n",
       "      <td>4</td>\n",
       "      <td>119 05 0 186.00</td>\n",
       "      <td>SINGLE FAMILY</td>\n",
       "      <td>316  LUTIE ST</td>\n",
       "      <td>NaN</td>\n",
       "      <td>NASHVILLE</td>\n",
       "      <td>2013-01-23</td>\n",
       "      <td>102000</td>\n",
       "      <td>20130131-0009929</td>\n",
       "      <td>...</td>\n",
       "      <td>138100.0</td>\n",
       "      <td>164800.0</td>\n",
       "      <td>1969.00000</td>\n",
       "      <td>CRAWL</td>\n",
       "      <td>1910.0</td>\n",
       "      <td>FRAME</td>\n",
       "      <td>C</td>\n",
       "      <td>2.0</td>\n",
       "      <td>1.0</td>\n",
       "      <td>0.0</td>\n",
       "    </tr>\n",
       "  </tbody>\n",
       "</table>\n",
       "<p>5 rows × 31 columns</p>\n",
       "</div>"
      ],
      "text/plain": [
       "   Unnamed: 0  Unnamed: 0.1         Parcel ID           Land Use  \\\n",
       "0           0             0  105 03 0D 008.00  RESIDENTIAL CONDO   \n",
       "1           1             1   105 11 0 080.00      SINGLE FAMILY   \n",
       "2           2             2   118 03 0 130.00      SINGLE FAMILY   \n",
       "3           3             3   119 01 0 479.00      SINGLE FAMILY   \n",
       "4           4             4   119 05 0 186.00      SINGLE FAMILY   \n",
       "\n",
       "    Property Address Suite/ Condo   # Property City   Sale Date  Sale Price  \\\n",
       "0    1208  3RD AVE S                8     NASHVILLE  2013-01-24      132000   \n",
       "1   1802  STEWART PL              NaN     NASHVILLE  2013-01-11      191500   \n",
       "2  2761  ROSEDALE PL              NaN     NASHVILLE  2013-01-18      202000   \n",
       "3  224  PEACHTREE ST              NaN     NASHVILLE  2013-01-18       32000   \n",
       "4      316  LUTIE ST              NaN     NASHVILLE  2013-01-23      102000   \n",
       "\n",
       "    Legal Reference    ...    Building Value Total Value Finished Area  \\\n",
       "0  20130128-0008725    ...               NaN         NaN           NaN   \n",
       "1  20130118-0006337    ...          134400.0    168300.0    1149.00000   \n",
       "2  20130124-0008033    ...          157800.0    191800.0    2090.82495   \n",
       "3  20130128-0008863    ...          243700.0    268700.0    2145.60001   \n",
       "4  20130131-0009929    ...          138100.0    164800.0    1969.00000   \n",
       "\n",
       "  Foundation Type Year Built Exterior Wall  Grade Bedrooms  Full Bath  \\\n",
       "0             NaN        NaN           NaN    NaN      NaN        NaN   \n",
       "1         PT BSMT     1941.0         BRICK   C         2.0        1.0   \n",
       "2            SLAB     2000.0   BRICK/FRAME   C         3.0        2.0   \n",
       "3       FULL BSMT     1948.0   BRICK/FRAME   B         4.0        2.0   \n",
       "4           CRAWL     1910.0         FRAME   C         2.0        1.0   \n",
       "\n",
       "  Half Bath  \n",
       "0       NaN  \n",
       "1       0.0  \n",
       "2       1.0  \n",
       "3       0.0  \n",
       "4       0.0  \n",
       "\n",
       "[5 rows x 31 columns]"
      ]
     },
     "execution_count": 11,
     "metadata": {},
     "output_type": "execute_result"
    }
   ],
   "source": [
    "df.head()"
   ]
  },
  {
   "cell_type": "code",
   "execution_count": 12,
   "metadata": {
    "collapsed": true
   },
   "outputs": [],
   "source": [
    "#remove useless or duplicate info columns\n",
    "df = df.drop(['Unnamed: 0', 'Unnamed: 0.1', 'Parcel ID','State', 'City', 'Legal Reference', 'image', 'Tax District', 'Sold As Vacant', 'Suite/ Condo   #', 'Property City', 'Multiple Parcels Involved in Sale', 'Owner Name', 'Address'], axis = 1)"
   ]
  },
  {
   "cell_type": "code",
   "execution_count": 13,
   "metadata": {},
   "outputs": [
    {
     "data": {
      "text/plain": [
       "Land Use            56636\n",
       "Property Address    56477\n",
       "Sale Date           56636\n",
       "Sale Price          56636\n",
       "Acreage             26017\n",
       "Neighborhood        26017\n",
       "Land Value          26017\n",
       "Building Value      26017\n",
       "Total Value         26017\n",
       "Finished Area       24166\n",
       "Foundation Type     24164\n",
       "Year Built          24165\n",
       "Exterior Wall       24165\n",
       "Grade               24165\n",
       "Bedrooms            24159\n",
       "Full Bath           24277\n",
       "Half Bath           24146\n",
       "dtype: int64"
      ]
     },
     "execution_count": 13,
     "metadata": {},
     "output_type": "execute_result"
    }
   ],
   "source": [
    "df.count()"
   ]
  },
  {
   "cell_type": "code",
   "execution_count": 14,
   "metadata": {
    "collapsed": true
   },
   "outputs": [],
   "source": [
    "#copied from Maria Victoria's notebook\n",
    "\n",
    "residence =['RESIDENTIAL CONDO', 'SINGLE FAMILY', 'APARTMENT: LOW RISE (BUILT SINCE 1960)','DUPLEX',\n",
    "       'CONDO', 'ZERO LOT LINE', 'RESIDENTIAL COMBO/MISC', 'TRIPLEX','QUADPLEX',\n",
    "                'DORMITORY/BOARDING HOUSE', 'MOBILE HOME', 'PARSONAGE']\n",
    "    \n",
    "commerical = ['SMALL SERVICE SHOP', 'TERMINAL/DISTRIBUTION WAREHOUSE',\n",
    "       'NON-PROFIT CHARITABLE SERVICE',\n",
    "       'METRO OTHER THAN OFC, SCHOOL,HOSP, OR PARK', 'NIGHTCLUB/LOUNGE',\n",
    "       'MORTUARY/CEMETERY', 'PARKING LOT','OFFICE BLDG (ONE OR TWO STORIES)', \n",
    "        'CLUB/UNION HALL/LODGE', 'LIGHT MANUFACTURING',\n",
    "       'ONE STORY GENERAL RETAIL STORE', 'DAY CARE CENTER','CHURCH']\n",
    "    \n",
    "vacant = ['VACANT RES LAND', 'VACANT COMMERCIAL LAND', 'VACANT RURAL LAND','VACANT ZONED MULTI FAMILY', \n",
    "              'VACANT RESIDENTIAL LAND','VACANT RESIENTIAL LAND']\n",
    "    \n",
    "other = ['GREENBELT','GREENBELT/RES\\nGRRENBELT/RES']"
   ]
  },
  {
   "cell_type": "code",
   "execution_count": 15,
   "metadata": {
    "collapsed": true
   },
   "outputs": [],
   "source": [
    "#create dataframe with only rows that are residence\n",
    "df_housing = df[(df['Land Use'].isin(residence))]"
   ]
  },
  {
   "cell_type": "code",
   "execution_count": 16,
   "metadata": {},
   "outputs": [
    {
     "data": {
      "text/plain": [
       "Land Use            51312\n",
       "Property Address    51218\n",
       "Sale Date           51312\n",
       "Sale Price          51312\n",
       "Acreage             24214\n",
       "Neighborhood        24214\n",
       "Land Value          24214\n",
       "Building Value      24214\n",
       "Total Value         24214\n",
       "Finished Area       23599\n",
       "Foundation Type     23597\n",
       "Year Built          23598\n",
       "Exterior Wall       23598\n",
       "Grade               23598\n",
       "Bedrooms            23595\n",
       "Full Bath           23598\n",
       "Half Bath           23488\n",
       "dtype: int64"
      ]
     },
     "execution_count": 16,
     "metadata": {},
     "output_type": "execute_result"
    }
   ],
   "source": [
    "df_housing.count()"
   ]
  },
  {
   "cell_type": "code",
   "execution_count": null,
   "metadata": {
    "collapsed": true
   },
   "outputs": [],
   "source": [
    "#house_type will be one of these 3 lists\n",
    "apt = ['RESIDENTIAL CONDO', 'APARTMENT: LOW RISE (BUILT SINCE 1960)','DUPLEX',\n",
    "       'CONDO','RESIDENTIAL COMBO/MISC', 'TRIPLEX','QUADPLEX', 'DORMITORY/BOARDING HOUSE']\n",
    "house = ['ZERO LOT LINE', 'SINGLE FAMILY', 'MOBILE HOME', 'PARSONAGE']\n",
    "\n",
    "#use list index # when calling house_cat function\n",
    "house_str = ['Apt', 'House']\n",
    "\n",
    "def res_type(house_type, house_str):\n",
    "    df_housing['Resident Type'] = df_housing['Land Use'].where(df['Land Use'].isin(house_type), house_str)\n",
    "#    df['Resident Type'] = np.where(df['Land Use'].isin(house_type), house_str)\n",
    "    #df_housing['Land Use'].isin(house_type)['Resident Type'] = house_str\n",
    "    return df_housing\n",
    "#    df_housing.loc[(df_housing['Land Use'].isin(house_type)), 'Resident Type'] = house_str\n",
    "\n",
    "#    for x in df_housing['Land Use']:\n",
    "#        if x.isin(house_type):\n",
    "#            df_housing['Resident Type'] = house_str    #Resident Type is new column"
   ]
  },
  {
   "cell_type": "code",
   "execution_count": 79,
   "metadata": {},
   "outputs": [
    {
     "data": {
      "text/plain": [
       "0      Apt\n",
       "1    House\n",
       "2    House\n",
       "3    House\n",
       "4    House\n",
       "Name: Resident Type, dtype: object"
      ]
     },
     "execution_count": 79,
     "metadata": {},
     "output_type": "execute_result"
    }
   ],
   "source": [
    "#current working code\n",
    "def res_type(df_housing, house_type, house_str):\n",
    "    df_housing.loc[df_housing['Land Use'].isin(house_type), 'Resident Type'] = house_str\n",
    "#    df_housing.loc[df_housing['Land Use'].isin(apt), 'Resident Type'] = 'Apt'\n",
    " #   df_housing.loc[df_housing['Land Use'].isin(house), 'Resident Type'] = 'House'\n",
    "    return df_housing\n",
    "    #df_housing['Land Use'].isin(house):\n",
    "    #    return 'House'\n",
    "    \n",
    "#df_housing['Resident Type'] = df_housing.apply(res_type, axis=1)\n",
    "\n",
    "df_housing['Resident Type'].head()"
   ]
  },
  {
   "cell_type": "code",
   "execution_count": 73,
   "metadata": {
    "collapsed": true
   },
   "outputs": [],
   "source": [
    "#alternate working code\n",
    "apt = ['RESIDENTIAL CONDO', 'APARTMENT: LOW RISE (BUILT SINCE 1960)','DUPLEX',\n",
    "       'CONDO','RESIDENTIAL COMBO/MISC', 'TRIPLEX','QUADPLEX', 'DORMITORY/BOARDING HOUSE']\n",
    "house = ['ZERO LOT LINE', 'SINGLE FAMILY', 'MOBILE HOME', 'PARSONAGE']\n",
    "\n",
    "def res_type(df_housing):\n",
    "    df_housing['Resident Type'] = np.where(df_housing['Land Use'].isin(apt), 'Apt', 'House')\n",
    " #   df_housing['Resident Type'] = df_housing['Land Use'].where(df['Land Use'].isin(house), 'House')\n",
    "    return df_housing"
   ]
  },
  {
   "cell_type": "code",
   "execution_count": 74,
   "metadata": {},
   "outputs": [
    {
     "name": "stderr",
     "output_type": "stream",
     "text": [
      "C:\\Users\\kenisha.priester\\AppData\\Local\\Continuum\\Anaconda2\\lib\\site-packages\\ipykernel_launcher.py:6: SettingWithCopyWarning: \n",
      "A value is trying to be set on a copy of a slice from a DataFrame.\n",
      "Try using .loc[row_indexer,col_indexer] = value instead\n",
      "\n",
      "See the caveats in the documentation: http://pandas.pydata.org/pandas-docs/stable/indexing.html#indexing-view-versus-copy\n",
      "  \n"
     ]
    },
    {
     "data": {
      "text/plain": [
       "0      Apt\n",
       "1    House\n",
       "2    House\n",
       "3    House\n",
       "4    House\n",
       "Name: Resident Type, dtype: object"
      ]
     },
     "execution_count": 74,
     "metadata": {},
     "output_type": "execute_result"
    }
   ],
   "source": [
    "res_type(df_housing)\n",
    "\n",
    "df_housing['Resident Type'].head()"
   ]
  },
  {
   "cell_type": "code",
   "execution_count": 52,
   "metadata": {},
   "outputs": [
    {
     "data": {
      "text/plain": [
       "0         True\n",
       "1        False\n",
       "2        False\n",
       "3        False\n",
       "4        False\n",
       "5        False\n",
       "6         True\n",
       "7        False\n",
       "8        False\n",
       "9        False\n",
       "10       False\n",
       "11       False\n",
       "12       False\n",
       "14       False\n",
       "15       False\n",
       "16       False\n",
       "17        True\n",
       "18        True\n",
       "19        True\n",
       "20       False\n",
       "21       False\n",
       "22       False\n",
       "23       False\n",
       "24       False\n",
       "25       False\n",
       "26       False\n",
       "27       False\n",
       "28       False\n",
       "29       False\n",
       "30        True\n",
       "         ...  \n",
       "56601    False\n",
       "56602    False\n",
       "56603    False\n",
       "56604    False\n",
       "56605    False\n",
       "56606    False\n",
       "56607    False\n",
       "56608     True\n",
       "56609     True\n",
       "56610     True\n",
       "56611     True\n",
       "56613     True\n",
       "56614    False\n",
       "56615    False\n",
       "56619     True\n",
       "56620     True\n",
       "56622     True\n",
       "56623     True\n",
       "56624     True\n",
       "56625     True\n",
       "56626     True\n",
       "56627     True\n",
       "56628     True\n",
       "56629     True\n",
       "56630     True\n",
       "56631     True\n",
       "56632     True\n",
       "56633     True\n",
       "56634     True\n",
       "56635     True\n",
       "Name: Land Use, Length: 51312, dtype: bool"
      ]
     },
     "execution_count": 52,
     "metadata": {},
     "output_type": "execute_result"
    }
   ],
   "source": [
    "df_housing['Land Use'].isin(apt)"
   ]
  },
  {
   "cell_type": "code",
   "execution_count": 62,
   "metadata": {},
   "outputs": [
    {
     "name": "stderr",
     "output_type": "stream",
     "text": [
      "C:\\Users\\kenisha.priester\\AppData\\Local\\Continuum\\Anaconda2\\lib\\site-packages\\ipykernel_launcher.py:10: SettingWithCopyWarning: \n",
      "A value is trying to be set on a copy of a slice from a DataFrame.\n",
      "Try using .loc[row_indexer,col_indexer] = value instead\n",
      "\n",
      "See the caveats in the documentation: http://pandas.pydata.org/pandas-docs/stable/indexing.html#indexing-view-versus-copy\n",
      "  # Remove the CWD from sys.path while we load stuff.\n"
     ]
    },
    {
     "data": {
      "text/plain": [
       "0            House\n",
       "1    SINGLE FAMILY\n",
       "2    SINGLE FAMILY\n",
       "3    SINGLE FAMILY\n",
       "4    SINGLE FAMILY\n",
       "Name: Resident Type, dtype: object"
      ]
     },
     "execution_count": 62,
     "metadata": {},
     "output_type": "execute_result"
    }
   ],
   "source": [
    "res_type(apt, house_str[0])\n",
    "res_type(house, house_str[1])\n",
    "\n",
    "df_housing['Resident Type'].head()"
   ]
  }
 ],
 "metadata": {
  "kernelspec": {
   "display_name": "Python 2",
   "language": "python",
   "name": "python2"
  },
  "language_info": {
   "codemirror_mode": {
    "name": "ipython",
    "version": 2
   },
   "file_extension": ".py",
   "mimetype": "text/x-python",
   "name": "python",
   "nbconvert_exporter": "python",
   "pygments_lexer": "ipython2",
   "version": "2.7.13"
  }
 },
 "nbformat": 4,
 "nbformat_minor": 2
}
